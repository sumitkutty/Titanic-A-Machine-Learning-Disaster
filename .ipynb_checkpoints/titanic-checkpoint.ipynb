{
 "cells": [
  {
   "cell_type": "code",
   "execution_count": 4,
   "metadata": {},
   "outputs": [],
   "source": [
    "import numpy as np\n",
    "import pandas as pd\n",
    "import matplotlib.pyplot as plt\n",
    "import seaborn as sns\n",
    "from sklearn.preprocessing import LabelEncoder,StandardScaler\n",
    "from warnings import filterwarnings as w\n",
    "from sklearn.model_selection import train_test_split, cross_val_score, KFold, GridSearchCV, RandomizedSearchCV\n",
    "w('ignore')\n",
    "import math\n",
    "from sklearn.model_selection import cross_val_score\n",
    "from sklearn.naive_bayes import GaussianNB  \n",
    "from sklearn.linear_model import LogisticRegression\n",
    "from sklearn import tree\n",
    "from sklearn.neighbors import KNeighborsClassifier\n",
    "from sklearn.ensemble import RandomForestClassifier,ExtraTreesClassifier\n",
    "from sklearn.svm import SVC\n",
    "from sklearn.metrics import accuracy_score"
   ]
  },
  {
   "cell_type": "code",
   "execution_count": 5,
   "metadata": {},
   "outputs": [],
   "source": [
    "train = pd.read_csv(\"train.csv\")\n",
    "xtrain =train.copy()]\n",
    "test = pd.read_csv(\"test.csv\")\n",
    "xtest = test.copy()"
   ]
  },
  {
   "cell_type": "code",
   "execution_count": 6,
   "metadata": {},
   "outputs": [
    {
     "data": {
      "image/png": "[encoded data removed]",
      "text/plain": [
       "<Figure size 432x288 with 1 Axes>"
      ]
     },
     "metadata": {
      "needs_background": "light"
     },
     "output_type": "display_data"
    }
   ],
   "source": [
    "plot = sns.barplot(x = xtrain['SibSp'], y = xtrain['Survived'])\n",
    "plot.set_xticklabels(plot.get_xticklabels(), rotation = 90)\n",
    "plt.show()"
   ]
  },
  {
   "cell_type": "code",
   "execution_count": 99,
   "metadata": {},
   "outputs": [
    {
     "name": "stdout",
     "output_type": "stream",
     "text": [
      "<class 'pandas.core.frame.DataFrame'>\n",
      "RangeIndex: 891 entries, 0 to 890\n",
      "Data columns (total 12 columns):\n",
      " #   Column       Non-Null Count  Dtype  \n",
      "---  ------       --------------  -----  \n",
      " 0   PassengerId  891 non-null    int64  \n",
      " 1   Survived     891 non-null    int64  \n",
      " 2   Pclass       891 non-null    int64  \n",
      " 3   Name         891 non-null    object \n",
      " 4   Sex          891 non-null    object \n",
      " 5   Age          714 non-null    float64\n",
      " 6   SibSp        891 non-null    int64  \n",
      " 7   Parch        891 non-null    int64  \n",
      " 8   Ticket       891 non-null    object \n",
      " 9   Fare         891 non-null    float64\n",
      " 10  Cabin        204 non-null    object \n",
      " 11  Embarked     889 non-null    object \n",
      "dtypes: float64(2), int64(5), object(5)\n",
      "memory usage: 83.7+ KB\n"
     ]
    }
   ],
   "source": [
    "train.info()"
   ]
  },
  {
   "cell_type": "code",
   "execution_count": 100,
   "metadata": {},
   "outputs": [],
   "source": [
    "#Feature Engineering and Preprocessing the data inside a function\n",
    "def preprocess(df):\n",
    "    df['Cabin_Multiple'] = df['Cabin'].apply(lambda x: 0 if pd.isna(x) else len(x.split(\" \")))\n",
    "    df['Cabin_begin'] = df['Cabin'].apply(lambda x: str(x)[0])\n",
    "    df['name_title'] = df['Name'].apply(lambda x: x.split(\",\")[1].split(\".\")[0].split(\" \")[1])\n",
    "    df = df.dropna(subset=['Embarked'])\n",
    "    df['Age'] = df['Age'].fillna(df.Age.median()) \n",
    "    df['Age'] = df['Age'].apply(lambda x: int((round(x))))\n",
    "    df['Fare'] = df['Fare'].fillna(df.Fare.median())\n",
    "    encoder = LabelEncoder()\n",
    "    df['Sex'] = encoder.fit_transform(df['Sex'])\n",
    "    df['Pclass'] = df['Pclass'].astype('str')\n",
    "    df['SibSp'] = df['SibSp'].astype('str')\n",
    "    df['Parch'] = df['Parch'].astype('str')\n",
    "    df = pd.get_dummies(df, columns = ['Embarked','Pclass','name_title','SibSp','Parch','Cabin_Multiple','Cabin_begin','Age'])\n",
    "    df = df.drop(['Ticket','PassengerId','Cabin','Name'], axis=1)\n",
    "    return df"
   ]
  },
  {
   "cell_type": "code",
   "execution_count": 101,
   "metadata": {},
   "outputs": [],
   "source": [
    "xtrain['ID'] = 1\n",
    "xtest['ID'] = 0\n",
    "whole_data = pd.concat([xtrain,xtest], ignore_index = True)\n",
    "whole_data = preprocess(whole_data)\n",
    "xtrain = whole_data[whole_data['ID']==1]\n",
    "xtest =  whole_data[whole_data['ID']==0].drop(['ID','Survived'], axis=1)\n",
    "xtest = xtest.reset_index(drop=True)\n",
    "\n",
    "ytrain = xtrain['Survived']\n",
    "\n",
    "xtrain = xtrain.drop(['Survived','ID'], axis=1)\n",
    "\n",
    "\n",
    "\n",
    "features = xtrain.columns\n",
    "#Scale the data\n",
    "scaler = StandardScaler()\n",
    "xtrain_scaled  = scaler.fit_transform(xtrain)\n",
    "\n",
    "\n",
    "#convert it back to a dataframe\n",
    "xtrain_scaled  = pd.DataFrame(xtrain_scaled, columns = features)\n",
    "\n",
    "#x_train,x_test, y_train, y_test = train_test_split(xtrain,ytrain, test_size = 0.2)\n",
    "#x_train_s,x_test_s, y_train_s, y_test_s = train_test_split(xtrain_scaled,ytrain, test_size = 0.2)"
   ]
  },
  {
   "cell_type": "code",
   "execution_count": null,
   "metadata": {},
   "outputs": [],
   "source": [
    "#Feauture Importances\n",
    "feat_imp = ExtraTreesClassifier()\n",
    "feat_imp.fit(xtrain, ytrain)\n",
    "\n",
    "feat_imp.feature_importances_\n",
    "\n",
    "imps = pd.Series(feat_imp.feature_importances_, index = xtrain.columns)\n",
    "imps.nlargest(30).plot(kind='barh')"
   ]
  },
  {
   "cell_type": "code",
   "execution_count": 104,
   "metadata": {},
   "outputs": [],
   "source": [
    "#MODELS:\n",
    "#Random Forest\n",
    "model = RandomForestClassifier(criterion = 'gini',max_features = 'sqrt', n_estimators = 100)\n",
    "model.fit(xtrain,ytrain)\n",
    "\n",
    "Survived = model.predict(xtest).astype(int)\n",
    "#print(\"RF accuracy: \", accuracy_score(Survived2, y_test))\n",
    "output = pd.DataFrame({'PassengerId': test['PassengerId'], 'Survived': Survived})\n",
    "output.to_csv('rf3.csv', index=False)"
   ]
  },
  {
   "cell_type": "code",
   "execution_count": null,
   "metadata": {},
   "outputs": [],
   "source": [
    "#cross validation\n",
    "\n",
    "rf = RandomForestClassifier(criterion = 'gini', n_estimators = 200,max_features = 'log2', max_depth = 20,class_weight = 'balanced_subsample')\n",
    "svc = SVC(probability = True) #use scaled\n",
    "knn = KNeighborsClassifier() #use scaled\n",
    "gnb  = GaussianNB() #use scaled\n",
    "\n",
    "kfold = KFold(n_splits = 5, shuffle = True)\n",
    "print(\"rf accuracy: \", np.mean(cross_val_score(rf, xtrain,ytrain, cv = kfold)))\n",
    "print(\"svm accuracy: \", np.mean(cross_val_score(svc, xtrain_scaled,ytrain, cv = kfold)))\n",
    "print(\"knn accuracy: \", np.mean(cross_val_score(knn, xtrain_scaled,ytrain, cv = kfold)))\n",
    "print(\"gnb accuracy: \", np.mean(cross_val_score(gnb, xtrain_scaled,ytrain, cv = kfold)))"
   ]
  },
  {
   "cell_type": "code",
   "execution_count": null,
   "metadata": {},
   "outputs": [],
   "source": [
    "#Use grid search to find best parameters:\n",
    "\n",
    "rf_grid = RandomForestClassifier()\n",
    "params = {'criterion' : ['gini','entropy'], 'n_estimators':[100,200,300,400,500] , \n",
    "          'max_features':['auto','sqrt','log2'], \n",
    "          'class_weight':['balanced','balanced_subsample'], 'max_depth':['None',5,10,20,30,40], \n",
    "          'min_impurity_split':[0.2,0.15,0.25,0.10], 'min_impurity_decrease': [0.2,0.15]}\n",
    "grid_model = GridSearchCV(rf_grid, cv=5, param_grid = params)\n",
    "grid_model.fit(xtrain,ytrain)\n",
    "\n",
    "print(\"error after grid search: \", grid_model.best_score_)\n",
    "print(\"The parameters given by the grid searchh is:\", grid_model.best_params_)"
   ]
  },
  {
   "cell_type": "code",
   "execution_count": null,
   "metadata": {},
   "outputs": [],
   "source": []
  },
  {
   "cell_type": "code",
   "execution_count": null,
   "metadata": {},
   "outputs": [],
   "source": []
  }
 ],
 "metadata": {
  "kernelspec": {
   "display_name": "Python 3",
   "language": "python",
   "name": "python3"
  },
  "language_info": {
   "codemirror_mode": {
    "name": "ipython",
    "version": 3
   },
   "file_extension": ".py",
   "mimetype": "text/x-python",
   "name": "python",
   "nbconvert_exporter": "python",
   "pygments_lexer": "ipython3",
   "version": "3.7.3"
  }
 },
 "nbformat": 4,
 "nbformat_minor": 4
}
